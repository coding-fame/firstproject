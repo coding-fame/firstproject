{
 "cells": [
  {
   "cell_type": "markdown",
   "metadata": {},
   "source": [
    "## Project structure"
   ]
  },
  {
   "cell_type": "code",
   "execution_count": null,
   "metadata": {},
   "outputs": [],
   "source": [
    "import os\n",
    "from pathlib import Path\n",
    "\n",
    "list_of_files = [\n",
    "    \".github/workflows/.gitkeep\",\n",
    "    \"src/__init__.py\",\n",
    "\n",
    "    \"src/components/__init__.py\",\n",
    "    \"src/components/data_ingestion.py\",\n",
    "    \"src/components/data_transformation.py\",\n",
    "    \"src/components/model_trainer.py\",\n",
    "    \"src/components/model_evaluation.py\",\n",
    "\n",
    "    \"src/pipeline/__init__.py\",\n",
    "    \"src/pipeline/training_pipeline.py\",\n",
    "    \"src/pipeline/prediction_pipeline.py\",\n",
    "\n",
    "    \"src/utils/__init__.py\",\n",
    "    \"src/utils/utils.py\",\n",
    "\n",
    "    \"src/logger/logging.py\",\n",
    "    \"src/exception/exception.py\",\n",
    "\n",
    "    \"src/test/unit/__init__.py\",\n",
    "    \"src/test/integration/__init__.py\",\n",
    "    \n",
    "    \"init_setup.sh\",\n",
    "    \"reguirements.txt\",\n",
    "    \"requirements_dev.txt\",\n",
    "    \"setup.py\",\n",
    "    \"setup.cfg\",\n",
    "    \"pyproject.toml\",\n",
    "    \"tox.ini\",\n",
    "    \"notebook/experiments.ipynb\",\n",
    "]\n",
    "\n",
    "for filepath in list_of_files:\n",
    "    filepath = Path(filepath)\n",
    "    filedir, filename = os.path.split(filepath)\n",
    "    if filedir != \"\":\n",
    "        os.makedirs(filedir, exist_ok=True)\n",
    "\n",
    "    if (not os.path.exists(filepath)) or (os.path.getsize(filepath) == 0):\n",
    "        with open(filepath, \"w\") as f:\n",
    "            pass\n"
   ]
  },
  {
   "cell_type": "markdown",
   "metadata": {},
   "source": [
    "### src/components\n",
    "\n",
    "ML \n",
    "1. Supervised \n",
    "2. Unsupervised\n",
    "\n",
    "training --> Pipeline\n",
    "    Data\n",
    "    Data_validation\n",
    "    FE\n",
    "    Model_training\n",
    "    Model_evaluation\n",
    "validation/ testing/ infrecing --> Pipeline\n",
    "    Data\n",
    "    Data_validation\n",
    "    FE\n",
    "\n",
    "\n"
   ]
  }
 ],
 "metadata": {
  "language_info": {
   "name": "python"
  }
 },
 "nbformat": 4,
 "nbformat_minor": 2
}
